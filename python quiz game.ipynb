{
 "cells": [
  {
   "cell_type": "markdown",
   "metadata": {},
   "source": [
    "1. Quiz game:"
   ]
  },
  {
   "cell_type": "code",
   "execution_count": 1,
   "metadata": {},
   "outputs": [
    {
     "name": "stdout",
     "output_type": "stream",
     "text": [
      "Welcome to my Computer quiz!\n",
      "okay! Let's play:\n",
      "Correct!\n",
      "Correct!\n",
      "Incorrect!\n",
      "Correct!\n",
      "Correct!\n",
      "You got 4 questions correct!\n",
      "You got 80.0%\n"
     ]
    }
   ],
   "source": [
    "print(\"Welcome to my Computer quiz!\")\n",
    "playing = input(\"Do you want to play? \")\n",
    "if playing.lower() != \"yes\":\n",
    "    quit()  \n",
    "print(\"okay! Let's play:\")\n",
    "score = 0    \n",
    "answer = input(\"What does CPU stand for? \")\n",
    "if answer.lower() == \"central processing unit\":\n",
    "    print(\"Correct!\")\n",
    "    score += 1\n",
    "else:\n",
    "    print(\"Incorrect!\")  \n",
    "answer = input(\"What does PSU stand for? \")\n",
    "if answer.lower() == \"power supply\":\n",
    "    print(\"Correct!\")\n",
    "    score += 1\n",
    "else:\n",
    "    print(\"Incorrect!\")  \n",
    "answer = input(\"What does RAM stand for? \")\n",
    "if answer.lower() == \"random access memory\":\n",
    "    print(\"Correct!\")\n",
    "    score += 1\n",
    "else:\n",
    "    print(\"Incorrect!\")          \n",
    "answer = input(\"What does ROM stand for? \")\n",
    "if answer.lower() == \"read only memory\":\n",
    "    print(\"Correct!\")\n",
    "    score += 1\n",
    "else:\n",
    "    print(\"Incorrect!\")\n",
    "answer = input(\"What does LAN stand for? \")\n",
    "if answer.lower() == \"local area network\":\n",
    "    print(\"Correct!\")\n",
    "    score += 1\n",
    "else:    \n",
    "    print(\"Incorrect!\") \n",
    "print(\"You got \" + str(score) + \" questions correct!\")  \n",
    "print(\"You got \" + str((score / 5) * 100) + \"%\")  \n",
    "\n",
    "\n"
   ]
  }
 ],
 "metadata": {
  "kernelspec": {
   "display_name": "base",
   "language": "python",
   "name": "python3"
  },
  "language_info": {
   "codemirror_mode": {
    "name": "ipython",
    "version": 3
   },
   "file_extension": ".py",
   "mimetype": "text/x-python",
   "name": "python",
   "nbconvert_exporter": "python",
   "pygments_lexer": "ipython3",
   "version": "3.11.3"
  },
  "orig_nbformat": 4
 },
 "nbformat": 4,
 "nbformat_minor": 2
}
